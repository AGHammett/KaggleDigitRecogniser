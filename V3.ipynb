{
 "cells": [
  {
   "cell_type": "code",
   "execution_count": 1,
   "id": "b6b98e58",
   "metadata": {
    "_cell_guid": "b1076dfc-b9ad-4769-8c92-a6c4dae69d19",
    "_uuid": "8f2839f25d086af736a60e9eeb907d3b93b6e0e5",
    "execution": {
     "iopub.execute_input": "2025-01-22T16:38:38.736948Z",
     "iopub.status.busy": "2025-01-22T16:38:38.736397Z",
     "iopub.status.idle": "2025-01-22T16:38:39.658444Z",
     "shell.execute_reply": "2025-01-22T16:38:39.656944Z"
    },
    "papermill": {
     "duration": 0.930459,
     "end_time": "2025-01-22T16:38:39.660787",
     "exception": false,
     "start_time": "2025-01-22T16:38:38.730328",
     "status": "completed"
    },
    "tags": []
   },
   "outputs": [
    {
     "name": "stdout",
     "output_type": "stream",
     "text": [
      "/kaggle/input/digit-recognizer/sample_submission.csv\n",
      "/kaggle/input/digit-recognizer/train.csv\n",
      "/kaggle/input/digit-recognizer/test.csv\n"
     ]
    }
   ],
   "source": [
    "# This Python 3 environment comes with many helpful analytics libraries installed\n",
    "# It is defined by the kaggle/python Docker image: https://github.com/kaggle/docker-python\n",
    "# For example, here's several helpful packages to load\n",
    "\n",
    "import numpy as np # linear algebra\n",
    "import pandas as pd # data processing, CSV file I/O (e.g. pd.read_csv)\n",
    "\n",
    "# Input data files are available in the read-only \"../input/\" directory\n",
    "# For example, running this (by clicking run or pressing Shift+Enter) will list all files under the input directory\n",
    "\n",
    "import os\n",
    "for dirname, _, filenames in os.walk('/kaggle/input'):\n",
    "    for filename in filenames:\n",
    "        print(os.path.join(dirname, filename))\n",
    "\n",
    "# You can write up to 20GB to the current directory (/kaggle/working/) that gets preserved as output when you create a version using \"Save & Run All\" \n",
    "# You can also write temporary files to /kaggle/temp/, but they won't be saved outside of the current session"
   ]
  },
  {
   "cell_type": "code",
   "execution_count": 2,
   "id": "320efb2e",
   "metadata": {
    "execution": {
     "iopub.execute_input": "2025-01-22T16:38:39.670497Z",
     "iopub.status.busy": "2025-01-22T16:38:39.670022Z",
     "iopub.status.idle": "2025-01-22T16:38:45.312427Z",
     "shell.execute_reply": "2025-01-22T16:38:45.311247Z"
    },
    "papermill": {
     "duration": 5.651426,
     "end_time": "2025-01-22T16:38:45.316317",
     "exception": false,
     "start_time": "2025-01-22T16:38:39.664891",
     "status": "completed"
    },
    "tags": []
   },
   "outputs": [],
   "source": [
    "train_set = pd.read_csv(\"/kaggle/input/digit-recognizer/train.csv\")\n",
    "X_test = pd.read_csv(\"/kaggle/input/digit-recognizer/test.csv\")\n",
    "\n",
    "X = train_set.drop(\"label\", axis = 1)\n",
    "y = train_set[\"label\"]"
   ]
  },
  {
   "cell_type": "code",
   "execution_count": 3,
   "id": "ce752a6b",
   "metadata": {
    "execution": {
     "iopub.execute_input": "2025-01-22T16:38:45.331605Z",
     "iopub.status.busy": "2025-01-22T16:38:45.331231Z",
     "iopub.status.idle": "2025-01-22T16:38:47.080619Z",
     "shell.execute_reply": "2025-01-22T16:38:47.079609Z"
    },
    "papermill": {
     "duration": 1.75982,
     "end_time": "2025-01-22T16:38:47.083112",
     "exception": false,
     "start_time": "2025-01-22T16:38:45.323292",
     "status": "completed"
    },
    "tags": []
   },
   "outputs": [],
   "source": [
    "#split training data 70/30. Data augmentation will be used to increase size of training set.\n",
    "from sklearn.model_selection import train_test_split\n",
    "\n",
    "X_train, X_cv, y_train, y_cv = train_test_split(X, y, test_size = 0.3, random_state = 0)"
   ]
  },
  {
   "cell_type": "code",
   "execution_count": 4,
   "id": "d21eea75",
   "metadata": {
    "execution": {
     "iopub.execute_input": "2025-01-22T16:38:47.092497Z",
     "iopub.status.busy": "2025-01-22T16:38:47.091995Z",
     "iopub.status.idle": "2025-01-22T16:38:47.578287Z",
     "shell.execute_reply": "2025-01-22T16:38:47.577140Z"
    },
    "papermill": {
     "duration": 0.493682,
     "end_time": "2025-01-22T16:38:47.580722",
     "exception": false,
     "start_time": "2025-01-22T16:38:47.087040",
     "status": "completed"
    },
    "tags": []
   },
   "outputs": [],
   "source": [
    "#normalise data using minmax to preserve relative intensities\n",
    "from sklearn.preprocessing import MinMaxScaler\n",
    "\n",
    "scaler = MinMaxScaler()\n",
    "\n",
    "X_train_norm = pd.DataFrame(scaler.fit_transform(X_train), columns = X_train.columns)\n",
    "X_cv_norm = pd.DataFrame(scaler.transform(X_cv), columns = X_cv.columns)\n",
    "X_test_norm = pd.DataFrame(scaler.transform(X_test), columns = X_test.columns)\n"
   ]
  },
  {
   "cell_type": "code",
   "execution_count": 5,
   "id": "8b1b7c36",
   "metadata": {
    "execution": {
     "iopub.execute_input": "2025-01-22T16:38:47.590065Z",
     "iopub.status.busy": "2025-01-22T16:38:47.589665Z",
     "iopub.status.idle": "2025-01-22T16:38:47.595870Z",
     "shell.execute_reply": "2025-01-22T16:38:47.594795Z"
    },
    "papermill": {
     "duration": 0.013336,
     "end_time": "2025-01-22T16:38:47.597977",
     "exception": false,
     "start_time": "2025-01-22T16:38:47.584641",
     "status": "completed"
    },
    "tags": []
   },
   "outputs": [],
   "source": [
    "#augmentation function to add data to training set\n",
    "from scipy.ndimage import rotate\n",
    "\n",
    "def augment_data(image, std = 0, max_angle = 0, seed = 0):\n",
    "    \n",
    "    rng = np.random.default_rng(seed)\n",
    "    \n",
    "    reshaped_image = image.reshape(28, 28)\n",
    "    rotated_image =rotate(reshaped_image, angle = rng.uniform(-max_angle, max_angle), reshape = False)\n",
    "    noisy_image = rotated_image + rng.normal(0, std, reshaped_image.shape)\n",
    "    \n",
    "    return noisy_image"
   ]
  },
  {
   "cell_type": "code",
   "execution_count": 6,
   "id": "2753bd61",
   "metadata": {
    "execution": {
     "iopub.execute_input": "2025-01-22T16:38:47.607509Z",
     "iopub.status.busy": "2025-01-22T16:38:47.607128Z",
     "iopub.status.idle": "2025-01-22T16:39:13.385845Z",
     "shell.execute_reply": "2025-01-22T16:39:13.384805Z"
    },
    "papermill": {
     "duration": 25.786357,
     "end_time": "2025-01-22T16:39:13.388499",
     "exception": false,
     "start_time": "2025-01-22T16:38:47.602142",
     "status": "completed"
    },
    "tags": []
   },
   "outputs": [],
   "source": [
    "#convert df into array for transformation\n",
    "X_train_np = X_train_norm.values\n",
    "y_train_np = y_train.values\n",
    "X_cv_np = X_cv_norm.values.reshape(-1, 28, 28)\n",
    "y_cv_np = y_cv.values\n",
    "\n",
    "np.random.seed(0)\n",
    "\n",
    "#augment each image 3 times and concat into labeled sets\n",
    "aug_data = []\n",
    "aug_labels = []\n",
    "\n",
    "for image, label in zip(X_train_np, y_train_np):\n",
    "    \n",
    "    aug1 = augment_data(image, std = 0.075, max_angle = 0, seed = 1)\n",
    "    aug2 = augment_data(image, std = 0, max_angle = 15, seed = 2)\n",
    "    aug3 = augment_data(image, std = 0.075, max_angle = 20, seed = 3)\n",
    "\n",
    "    aug_data.extend([image.reshape(28, 28), aug1, aug2, aug3])\n",
    "    aug_labels.extend([label, label, label, label])\n"
   ]
  },
  {
   "cell_type": "code",
   "execution_count": 7,
   "id": "881c34aa",
   "metadata": {
    "execution": {
     "iopub.execute_input": "2025-01-22T16:39:13.399196Z",
     "iopub.status.busy": "2025-01-22T16:39:13.398821Z",
     "iopub.status.idle": "2025-01-22T16:39:13.963805Z",
     "shell.execute_reply": "2025-01-22T16:39:13.962854Z"
    },
    "papermill": {
     "duration": 0.573762,
     "end_time": "2025-01-22T16:39:13.966270",
     "exception": false,
     "start_time": "2025-01-22T16:39:13.392508",
     "status": "completed"
    },
    "tags": []
   },
   "outputs": [
    {
     "data": {
      "image/png": "[encoded data removed]",
      "text/plain": [
       "<Figure size 1200x400 with 4 Axes>"
      ]
     },
     "metadata": {},
     "output_type": "display_data"
    }
   ],
   "source": [
    "#visualise data augments\n",
    "import matplotlib.pyplot as plt\n",
    "\n",
    "def plot_augs(data, labels, index):\n",
    "   \n",
    "    images_to_plot = [data[index]] + [data[index + i] for i in range(1, 4)]\n",
    "    \n",
    "    fig, axes = plt.subplots(1, len(images_to_plot), figsize=(12, 4))\n",
    "    \n",
    "    for i, img in enumerate(images_to_plot):\n",
    "        axes[i].imshow(img, cmap=\"gray\")\n",
    "        axes[i].axis(\"off\")  # Hide axes\n",
    "        if i == 0:\n",
    "            axes[i].set_title(f\"Original - Label: {labels[index]}\")\n",
    "        else:\n",
    "            axes[i].set_title(f\"Augmentation {i}\")\n",
    "\n",
    "    plt.tight_layout()\n",
    "    plt.show()\n",
    "\n",
    "original_image_no = 20\n",
    "plot_augs(aug_data, aug_labels, original_image_no * 4)"
   ]
  },
  {
   "cell_type": "code",
   "execution_count": 8,
   "id": "200b775c",
   "metadata": {
    "execution": {
     "iopub.execute_input": "2025-01-22T16:39:13.976319Z",
     "iopub.status.busy": "2025-01-22T16:39:13.975922Z",
     "iopub.status.idle": "2025-01-22T16:39:18.168497Z",
     "shell.execute_reply": "2025-01-22T16:39:18.167537Z"
    },
    "papermill": {
     "duration": 4.199985,
     "end_time": "2025-01-22T16:39:18.170568",
     "exception": false,
     "start_time": "2025-01-22T16:39:13.970583",
     "status": "completed"
    },
    "tags": []
   },
   "outputs": [
    {
     "name": "stdout",
     "output_type": "stream",
     "text": [
      "torch.Size([117600, 1, 28, 28]) torch.Size([12600, 1, 28, 28]) torch.Size([117600])\n"
     ]
    }
   ],
   "source": [
    "import torch\n",
    "import torch.nn as nn\n",
    "import torch.nn.functional as F\n",
    "import torch.optim as optim\n",
    "from torch.utils.data import Dataset, DataLoader\n",
    "\n",
    "#convert data into tensors\n",
    "X_train_torch = torch.tensor(np.array(aug_data).astype(np.float32)).unsqueeze(1) #add channel dimension to tensor, convert to np array for speed\n",
    "y_train_torch = torch.tensor(np.array(aug_labels))\n",
    "X_cv_torch = torch.tensor(np.array(X_cv_np).astype(np.float32)).unsqueeze(1)\n",
    "y_cv_torch = torch.tensor(np.array(y_cv))\n",
    "\n",
    "print(X_train_torch.shape, X_cv_torch.shape, y_train_torch.shape) #[batch_size, channels, height, width]"
   ]
  },
  {
   "cell_type": "code",
   "execution_count": 9,
   "id": "79437e42",
   "metadata": {
    "execution": {
     "iopub.execute_input": "2025-01-22T16:39:18.180857Z",
     "iopub.status.busy": "2025-01-22T16:39:18.180292Z",
     "iopub.status.idle": "2025-01-22T16:39:18.188895Z",
     "shell.execute_reply": "2025-01-22T16:39:18.187826Z"
    },
    "papermill": {
     "duration": 0.016255,
     "end_time": "2025-01-22T16:39:18.191005",
     "exception": false,
     "start_time": "2025-01-22T16:39:18.174750",
     "status": "completed"
    },
    "tags": []
   },
   "outputs": [
    {
     "name": "stdout",
     "output_type": "stream",
     "text": [
      "torch.Size([117600, 1, 28, 28])\n"
     ]
    }
   ],
   "source": [
    "#Dataset class for handling batching and shuffling\n",
    "class CustomDataset(Dataset):\n",
    "    def __init__(self, images, labels):\n",
    "\n",
    "        self.images = images #[m, 1, 28, 28]\n",
    "        self.labels = labels #[m]\n",
    "\n",
    "    def __len__(self):\n",
    "        return len(self.images)\n",
    "\n",
    "    def __getitem__(self, idx):\n",
    "        image = self.images[idx]  \n",
    "        label = self.labels[idx] \n",
    "        return image, label\n",
    "\n",
    "train_dataset = CustomDataset(X_train_torch, y_train_torch)\n",
    "train_loader = DataLoader(train_dataset, batch_size = 64, shuffle = True)\n",
    "\n",
    "cv_dataset = CustomDataset(X_cv_torch, y_cv_torch)\n",
    "cv_loader = DataLoader(cv_dataset, batch_size=64, shuffle=False)\n",
    "\n",
    "print(train_dataset.images.shape)"
   ]
  },
  {
   "cell_type": "code",
   "execution_count": 10,
   "id": "54a6d09c",
   "metadata": {
    "execution": {
     "iopub.execute_input": "2025-01-22T16:39:18.201167Z",
     "iopub.status.busy": "2025-01-22T16:39:18.200751Z",
     "iopub.status.idle": "2025-01-22T16:39:18.208620Z",
     "shell.execute_reply": "2025-01-22T16:39:18.207554Z"
    },
    "papermill": {
     "duration": 0.0154,
     "end_time": "2025-01-22T16:39:18.210744",
     "exception": false,
     "start_time": "2025-01-22T16:39:18.195344",
     "status": "completed"
    },
    "tags": []
   },
   "outputs": [],
   "source": [
    "# SimpleCNN for early tests\n",
    "class SimpleCNN(nn.Module):\n",
    "    def __init__(self):\n",
    "        super(SimpleCNN, self).__init__()\n",
    "\n",
    "        # Convolution & Pool Setup\n",
    "        self.conv1 = nn.Conv2d(in_channels=1, out_channels=16, kernel_size=3, stride=1, padding=1)\n",
    "        self.conv2 = nn.Conv2d(in_channels=16, out_channels=32, kernel_size=3, stride=1, padding=1)\n",
    "        self.pool = nn.MaxPool2d(kernel_size=2, stride=2)  # Pooling layer\n",
    "        \n",
    "        # Fully connected layers\n",
    "        self.fc1 = nn.Linear(32 * 7 * 7, 128)  # Input size reduced by pooling\n",
    "        self.fc2 = nn.Linear(128, 10)  # Output layer for 10 classes\n",
    "\n",
    "    def forward(self, x):\n",
    "        \n",
    "        # Convolutional block\n",
    "        x = self.pool(F.relu(self.conv1(x)))  # conv1 -> relu -> maxpool\n",
    "        x = self.pool(F.relu(self.conv2(x)))  # conv2 -> relu -> maxpool\n",
    "        \n",
    "        # Flatten the tensor\n",
    "        x = x.view(-1, 32 * 7 * 7)  # Flatten into (batch_size, num_features)\n",
    "        \n",
    "        # Fully connected layers\n",
    "        x = F.relu(self.fc1(x))\n",
    "        x = self.fc2(x)  # No activation for the final layer (logits)\n",
    "        return x"
   ]
  },
  {
   "cell_type": "code",
   "execution_count": 11,
   "id": "bfa557cc",
   "metadata": {
    "execution": {
     "iopub.execute_input": "2025-01-22T16:39:18.221258Z",
     "iopub.status.busy": "2025-01-22T16:39:18.220855Z",
     "iopub.status.idle": "2025-01-22T16:39:19.811132Z",
     "shell.execute_reply": "2025-01-22T16:39:19.810122Z"
    },
    "papermill": {
     "duration": 1.598242,
     "end_time": "2025-01-22T16:39:19.813405",
     "exception": false,
     "start_time": "2025-01-22T16:39:18.215163",
     "status": "completed"
    },
    "tags": []
   },
   "outputs": [],
   "source": [
    "# Initiate model & set hyperparameters\n",
    "\n",
    "model = SimpleCNN()\n",
    "criterion = nn.CrossEntropyLoss()\n",
    "optimizer = optim.Adam(model.parameters(), lr = 0.001)"
   ]
  },
  {
   "cell_type": "code",
   "execution_count": 12,
   "id": "5eaa60d3",
   "metadata": {
    "execution": {
     "iopub.execute_input": "2025-01-22T16:39:19.823895Z",
     "iopub.status.busy": "2025-01-22T16:39:19.823348Z",
     "iopub.status.idle": "2025-01-22T16:43:03.401676Z",
     "shell.execute_reply": "2025-01-22T16:43:03.400609Z"
    },
    "papermill": {
     "duration": 223.591262,
     "end_time": "2025-01-22T16:43:03.409070",
     "exception": false,
     "start_time": "2025-01-22T16:39:19.817808",
     "status": "completed"
    },
    "tags": []
   },
   "outputs": [
    {
     "name": "stdout",
     "output_type": "stream",
     "text": [
      "Epoch 1, Loss: 0.15431644009417114\n",
      "Epoch 2, Loss: 0.039804319286948504\n",
      "Epoch 3, Loss: 0.02389674794312025\n",
      "Epoch 4, Loss: 0.01603412659140193\n",
      "Epoch 5, Loss: 0.011619888388651165\n"
     ]
    }
   ],
   "source": [
    "# Model training\n",
    "num_epochs = 5\n",
    "\n",
    "for epoch in range(num_epochs):\n",
    "    model.train()\n",
    "    running_loss = 0.\n",
    "\n",
    "    for images, labels in train_loader:\n",
    "\n",
    "        optimizer.zero_grad() # Reset gradients\n",
    "\n",
    "        outputs = model(images)\n",
    "        loss = criterion(outputs, labels)\n",
    "\n",
    "        loss.backward()\n",
    "        optimizer.step()\n",
    "\n",
    "        running_loss += loss.item()\n",
    "    \n",
    "    print(f\"Epoch {epoch+1}, Loss: {running_loss/len(train_loader)}\")"
   ]
  },
  {
   "cell_type": "code",
   "execution_count": 13,
   "id": "c192b3b8",
   "metadata": {
    "execution": {
     "iopub.execute_input": "2025-01-22T16:43:03.421587Z",
     "iopub.status.busy": "2025-01-22T16:43:03.420709Z",
     "iopub.status.idle": "2025-01-22T16:43:07.015824Z",
     "shell.execute_reply": "2025-01-22T16:43:07.014395Z"
    },
    "papermill": {
     "duration": 3.603451,
     "end_time": "2025-01-22T16:43:07.018121",
     "exception": false,
     "start_time": "2025-01-22T16:43:03.414670",
     "status": "completed"
    },
    "tags": []
   },
   "outputs": [
    {
     "name": "stdout",
     "output_type": "stream",
     "text": [
      "Validation Accuracy: 98.8413%\n"
     ]
    }
   ],
   "source": [
    "# Model Evaluation\n",
    "from sklearn.metrics import accuracy_score\n",
    "\n",
    "model.eval()\n",
    "\n",
    "all_predictions = []\n",
    "all_labels = []\n",
    "\n",
    "with torch.no_grad():\n",
    "    \n",
    "    for images, labels in cv_loader:\n",
    "\n",
    "        outputs = model(images)\n",
    "        _, preds = torch.max(outputs, 1)\n",
    "\n",
    "        all_predictions.extend(preds)\n",
    "        all_labels.extend(labels)\n",
    "\n",
    "accuracy = accuracy_score(all_labels, all_predictions)\n",
    "print(f\"Validation Accuracy: {accuracy * 100:.4f}%\")"
   ]
  },
  {
   "cell_type": "code",
   "execution_count": 14,
   "id": "ae4f20a0",
   "metadata": {
    "execution": {
     "iopub.execute_input": "2025-01-22T16:43:07.029621Z",
     "iopub.status.busy": "2025-01-22T16:43:07.028663Z",
     "iopub.status.idle": "2025-01-22T16:43:07.078775Z",
     "shell.execute_reply": "2025-01-22T16:43:07.077697Z"
    },
    "papermill": {
     "duration": 0.058111,
     "end_time": "2025-01-22T16:43:07.080992",
     "exception": false,
     "start_time": "2025-01-22T16:43:07.022881",
     "status": "completed"
    },
    "tags": []
   },
   "outputs": [
    {
     "name": "stdout",
     "output_type": "stream",
     "text": [
      "146\n",
      "Prediction: 5 True Label: 9\n"
     ]
    }
   ],
   "source": [
    "# Error analyis\n",
    "incorrect_labels = [x for x, (label, pred) in enumerate(zip(all_labels, all_predictions)) if label != pred]\n",
    "\n",
    "print(len(incorrect_labels))\n",
    "\n",
    "index = incorrect_labels[0]\n",
    "print(f\"Prediction: {all_predictions[index]} True Label: {all_labels[index]}\")"
   ]
  },
  {
   "cell_type": "code",
   "execution_count": null,
   "id": "8c91bfe7",
   "metadata": {
    "papermill": {
     "duration": 0.004209,
     "end_time": "2025-01-22T16:43:07.089735",
     "exception": false,
     "start_time": "2025-01-22T16:43:07.085526",
     "status": "completed"
    },
    "tags": []
   },
   "outputs": [],
   "source": []
  }
 ],
 "metadata": {
  "kaggle": {
   "accelerator": "none",
   "dataSources": [
    {
     "databundleVersionId": 861823,
     "sourceId": 3004,
     "sourceType": "competition"
    }
   ],
   "dockerImageVersionId": 30804,
   "isGpuEnabled": false,
   "isInternetEnabled": false,
   "language": "python",
   "sourceType": "notebook"
  },
  "kernelspec": {
   "display_name": "Python 3",
   "language": "python",
   "name": "python3"
  },
  "language_info": {
   "codemirror_mode": {
    "name": "ipython",
    "version": 3
   },
   "file_extension": ".py",
   "mimetype": "text/x-python",
   "name": "python",
   "nbconvert_exporter": "python",
   "pygments_lexer": "ipython3",
   "version": "3.10.14"
  },
  "papermill": {
   "default_parameters": {},
   "duration": 273.008391,
   "end_time": "2025-01-22T16:43:08.518402",
   "environment_variables": {},
   "exception": null,
   "input_path": "__notebook__.ipynb",
   "output_path": "__notebook__.ipynb",
   "parameters": {},
   "start_time": "2025-01-22T16:38:35.510011",
   "version": "2.6.0"
  }
 },
 "nbformat": 4,
 "nbformat_minor": 5
}
